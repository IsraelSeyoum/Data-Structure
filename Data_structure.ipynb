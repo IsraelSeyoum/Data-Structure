{
 "cells": [
  {
   "cell_type": "code",
   "execution_count": 88,
   "metadata": {},
   "outputs": [
    {
     "name": "stdout",
     "output_type": "stream",
     "text": [
      "apple\n",
      "cherry\n"
     ]
    }
   ],
   "source": [
    "# Creating a list\n",
    "fruits = [\"apple\", \"banana\", \"cherry\"]\n",
    "\n",
    "# Accessing elements\n",
    "first_fruit = fruits[0] # \"apple\"\n",
    "last_fruit = fruits[-1] # \"cherry\" (negative indexing)\n",
    "\n",
    "print(first_fruit);\n",
    "print(last_fruit);"
   ]
  },
  {
   "cell_type": "code",
   "execution_count": 89,
   "metadata": {},
   "outputs": [
    {
     "name": "stdout",
     "output_type": "stream",
     "text": [
      "['apple', 'kiwi', 'banana', 'cherry', 'orange']\n"
     ]
    }
   ],
   "source": [
    "# Adding elements\n",
    "fruits.append(\"orange\") # Adds \"orange\" to the end of the\n",
    "list\n",
    "fruits.insert(1, \"kiwi\") # Inserts \"kiwi\" at index 1\n",
    "print(fruits);"
   ]
  },
  {
   "cell_type": "code",
   "execution_count": 90,
   "metadata": {},
   "outputs": [
    {
     "name": "stdout",
     "output_type": "stream",
     "text": [
      "Deleted the last element using 'orange' using pop function\n",
      "['apple', 'kiwi', 'cherry']\n"
     ]
    }
   ],
   "source": [
    "# Removing elements\n",
    "fruits.remove(\"banana\") # Removes \"banana\"\n",
    "last_fruit = fruits.pop() # Removes and returns the last element\n",
    "\n",
    "print(f\"Deleted the last element using '{last_fruit}' using pop function\");\n",
    "print(fruits);"
   ]
  },
  {
   "cell_type": "code",
   "execution_count": 91,
   "metadata": {},
   "outputs": [
    {
     "name": "stdout",
     "output_type": "stream",
     "text": [
      "['grape', 'kiwi', 'cherry', 'Avocado']\n",
      "['kiwi', 'cherry']\n",
      "We have 4 fruits in our list\n"
     ]
    }
   ],
   "source": [
    "# Modifying elements\n",
    "fruits[0] = \"grape\" # Changes \"apple\" to \"grape\"\n",
    "fruits.append(\"Avocado\");\n",
    "print(fruits);\n",
    "\n",
    "# Slicing lists\n",
    "citrus_fruits = fruits[1:3] # Gets elements from index 1 to 2 (not including 3)\n",
    "print(citrus_fruits);\n",
    "\n",
    "# Length of a list\n",
    "number_of_fruits = len(fruits) # Returns the count of elements in the list\n",
    "print(f\"We have {number_of_fruits} fruits in our list\")\n",
    "\n"
   ]
  },
  {
   "cell_type": "code",
   "execution_count": 92,
   "metadata": {},
   "outputs": [
    {
     "name": "stdout",
     "output_type": "stream",
     "text": [
      "Grape\n",
      "Kiwi\n",
      "Cherry\n",
      "Avocado\n"
     ]
    }
   ],
   "source": [
    "# Iterating through a list\n",
    "for fruit in fruits:\n",
    "    print(fruit.capitalize())"
   ]
  },
  {
   "cell_type": "code",
   "execution_count": 93,
   "metadata": {},
   "outputs": [
    {
     "name": "stdout",
     "output_type": "stream",
     "text": [
      "['grape', 'kiwi', 'cherry', 'Avocado']\n",
      "['Avocado', 'cherry', 'grape', 'kiwi']\n",
      "['kiwi', 'grape', 'cherry', 'Avocado']\n",
      "['Avocado', 'cherry', 'grape', 'kiwi']\n",
      "['kiwi', 'grape', 'cherry', 'Avocado']\n"
     ]
    }
   ],
   "source": [
    "# Sorting a list\n",
    "print(fruits);\n",
    "fruits.sort() # Sorts the list in ascending order and affects the list afterwards\n",
    "print(fruits);\n",
    "fruits.reverse(); #Affects the list afterwards\n",
    "print(fruits);\n",
    "sorted_fruits = sorted(fruits) # Returns a new sorted list and doesn't affect the list \n",
    "print(sorted_fruits);\n",
    "print(fruits);\n"
   ]
  }
 ],
 "metadata": {
  "kernelspec": {
   "display_name": "base",
   "language": "python",
   "name": "python3"
  },
  "language_info": {
   "codemirror_mode": {
    "name": "ipython",
    "version": 3
   },
   "file_extension": ".py",
   "mimetype": "text/x-python",
   "name": "python",
   "nbconvert_exporter": "python",
   "pygments_lexer": "ipython3",
   "version": "3.9.12"
  }
 },
 "nbformat": 4,
 "nbformat_minor": 2
}
